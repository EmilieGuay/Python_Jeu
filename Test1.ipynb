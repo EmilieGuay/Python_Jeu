{
  "nbformat": 4,
  "nbformat_minor": 0,
  "metadata": {
    "colab": {
      "name": "Test1.ipynb",
      "provenance": [],
      "collapsed_sections": [],
      "include_colab_link": true
    },
    "kernelspec": {
      "name": "python3",
      "display_name": "Python 3"
    },
    "language_info": {
      "name": "python"
    }
  },
  "cells": [
    {
      "cell_type": "markdown",
      "metadata": {
        "id": "view-in-github",
        "colab_type": "text"
      },
      "source": [
        "<a href=\"https://colab.research.google.com/github/EmilieGuay/Python_Jeu/blob/main/Test1.ipynb\" target=\"_parent\"><img src=\"https://colab.research.google.com/assets/colab-badge.svg\" alt=\"Open In Colab\"/></a>"
      ]
    },
    {
      "cell_type": "markdown",
      "source": [
        "# **Corriger l'erreur dans le code suivant:**"
      ],
      "metadata": {
        "id": "NhOk-WfeNnby"
      }
    },
    {
      "cell_type": "code",
      "execution_count": null,
      "metadata": {
        "colab": {
          "base_uri": "https://localhost:8080/",
          "height": 130
        },
        "id": "FIYQdmnINlqe",
        "outputId": "c1c9f623-6d1a-41b0-ffa6-7a9a75c28035"
      },
      "outputs": [
        {
          "output_type": "error",
          "ename": "SyntaxError",
          "evalue": "ignored",
          "traceback": [
            "\u001b[0;36m  File \u001b[0;32m\"<ipython-input-2-078ffb2debf7>\"\u001b[0;36m, line \u001b[0;32m1\u001b[0m\n\u001b[0;31m    int i=0;\u001b[0m\n\u001b[0m        ^\u001b[0m\n\u001b[0;31mSyntaxError\u001b[0m\u001b[0;31m:\u001b[0m invalid syntax\n"
          ]
        }
      ],
      "source": [
        "int i=0;\n",
        "print(i)"
      ]
    },
    {
      "cell_type": "markdown",
      "source": [
        "# **Ouvrir le fichier Données1.csv:**\n"
      ],
      "metadata": {
        "id": "3r5gMiSDP9N6"
      }
    },
    {
      "cell_type": "code",
      "source": [
        "f=open(\"/content/Python_Jeu/Données1.csv\")"
      ],
      "metadata": {
        "id": "Y4UF1GNFQCTm"
      },
      "execution_count": null,
      "outputs": []
    },
    {
      "cell_type": "code",
      "source": [
        "!git clone https://github.com/EmilieGuay/Python_Jeu.git"
      ],
      "metadata": {
        "colab": {
          "base_uri": "https://localhost:8080/"
        },
        "id": "8eNXOaxaYcTD",
        "outputId": "dbc3179e-84c4-4318-dfba-a80e54c26593"
      },
      "execution_count": null,
      "outputs": [
        {
          "output_type": "stream",
          "name": "stdout",
          "text": [
            "Cloning into 'Python_Jeu'...\n",
            "remote: Enumerating objects: 3, done.\u001b[K\n",
            "remote: Counting objects: 100% (3/3), done.\u001b[K\n",
            "remote: Compressing objects: 100% (2/2), done.\u001b[K\n",
            "remote: Total 3 (delta 0), reused 0 (delta 0), pack-reused 0\u001b[K\n",
            "Unpacking objects: 100% (3/3), done.\n"
          ]
        }
      ]
    },
    {
      "cell_type": "markdown",
      "source": [
        "#**Fonction pour les tests**"
      ],
      "metadata": {
        "id": "bTMWt9T4JRQE"
      }
    },
    {
      "cell_type": "code",
      "source": [
        "def square23 (x):\n",
        "    return x*x;"
      ],
      "metadata": {
        "id": "GW3UHDIdJTHa"
      },
      "execution_count": null,
      "outputs": []
    },
    {
      "cell_type": "code",
      "source": [
        "square23(3)"
      ],
      "metadata": {
        "colab": {
          "base_uri": "https://localhost:8080/"
        },
        "id": "v3L77o5kJazA",
        "outputId": "6ac46b54-372f-42f2-c539-8a6c170b880c"
      },
      "execution_count": null,
      "outputs": [
        {
          "output_type": "execute_result",
          "data": {
            "text/plain": [
              "9"
            ]
          },
          "metadata": {},
          "execution_count": 6
        }
      ]
    },
    {
      "cell_type": "markdown",
      "source": [
        "#**Section des tests** "
      ],
      "metadata": {
        "id": "_CHmwTXTJDWr"
      }
    },
    {
      "cell_type": "code",
      "source": [
        "import unittest"
      ],
      "metadata": {
        "id": "IeVtemDyJH89"
      },
      "execution_count": null,
      "outputs": []
    },
    {
      "cell_type": "code",
      "source": [
        "class Samples(unittest.TestCase):\n",
        "    def test(self):\n",
        "        self.assertEqual(square23(3), 9)"
      ],
      "metadata": {
        "id": "Z0b8mF6SJ9c-"
      },
      "execution_count": null,
      "outputs": []
    },
    {
      "cell_type": "code",
      "source": [
        "unittest.main(argv=['first-arg-is-ignored'], exit=False)"
      ],
      "metadata": {
        "colab": {
          "base_uri": "https://localhost:8080/"
        },
        "id": "EATxXNS1KTTw",
        "outputId": "ae87f7ce-eb07-4766-e817-7d953c8f0130"
      },
      "execution_count": null,
      "outputs": [
        {
          "output_type": "stream",
          "name": "stderr",
          "text": [
            ".\n",
            "----------------------------------------------------------------------\n",
            "Ran 1 test in 0.004s\n",
            "\n",
            "OK\n"
          ]
        },
        {
          "output_type": "execute_result",
          "data": {
            "text/plain": [
              "<unittest.main.TestProgram at 0x7f63b7aff710>"
            ]
          },
          "metadata": {},
          "execution_count": 15
        }
      ]
    },
    {
      "cell_type": "markdown",
      "source": [
        "#Section sur les cellules que l'on ne peut modifier ou effacer\n"
      ],
      "metadata": {
        "id": "xwOozB18_S0_"
      }
    },
    {
      "cell_type": "code",
      "source": [
        "#@title Éventuellement une Cellule non modifiable\n",
        "print(\"cette cellule ne peut être modifiée, ça ne marche pas encore...\")"
      ],
      "metadata": {
        "id": "R8icI1ai_YH3",
        "outputId": "87b860e7-d290-4f79-e535-f4b1c54da748",
        "colab": {
          "base_uri": "https://localhost:8080/"
        }
      },
      "execution_count": null,
      "outputs": [
        {
          "output_type": "stream",
          "name": "stdout",
          "text": [
            "cette cellule ne peut être modifiée, ça ne marche pas encore...\n"
          ]
        }
      ]
    },
    {
      "cell_type": "code",
      "source": [
        "#@title Cellule dont le code est caché { display-mode: \"form\" }\n",
        "print(\"le code de cette section est caché\")"
      ],
      "metadata": {
        "id": "RcCU_NxoAiZ_",
        "outputId": "fc1afd46-df36-432b-de3c-91e78dee0af1",
        "colab": {
          "base_uri": "https://localhost:8080/"
        }
      },
      "execution_count": null,
      "outputs": [
        {
          "output_type": "stream",
          "name": "stdout",
          "text": [
            "le code de cette section est caché\n"
          ]
        }
      ]
    }
  ]
}